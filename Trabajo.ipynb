{
 "cells": [
  {
   "cell_type": "code",
   "execution_count": 1,
   "id": "cf779cb5",
   "metadata": {},
   "outputs": [],
   "source": [
    "import pandas as pd"
   ]
  },
  {
   "cell_type": "code",
   "execution_count": 2,
   "id": "9b370b8d",
   "metadata": {},
   "outputs": [],
   "source": [
    "temp_Quito = pd.read_csv('TemperaturasRegistradas/temperature_Quito_celsius.csv')\n",
    "temp_Oslo = pd.read_csv('TemperaturasRegistradas/temperature_Oslo_celsius.csv')\n",
    "temp_Melbourne = pd.read_csv('TemperaturasRegistradas/temperature_Melbourne_celsius.csv')"
   ]
  },
  {
   "cell_type": "code",
   "execution_count": 3,
   "id": "266dc7b7",
   "metadata": {},
   "outputs": [],
   "source": [
    "promQuito = temp_Quito.sum()/temp_Quito.count()\n",
    "promOslo = temp_Oslo.sum()/temp_Oslo.count()\n",
    "promMelbourne = temp_Melbourne.sum()/temp_Melbourne.count()"
   ]
  }
 ],
 "metadata": {
  "kernelspec": {
   "display_name": "env",
   "language": "python",
   "name": "python3"
  },
  "language_info": {
   "codemirror_mode": {
    "name": "ipython",
    "version": 3
   },
   "file_extension": ".py",
   "mimetype": "text/x-python",
   "name": "python",
   "nbconvert_exporter": "python",
   "pygments_lexer": "ipython3",
   "version": "3.13.3"
  }
 },
 "nbformat": 4,
 "nbformat_minor": 5
}
