{
 "cells": [
  {
   "cell_type": "code",
   "execution_count": 1,
   "id": "cf779cb5",
   "metadata": {},
   "outputs": [],
   "source": [
    "import pandas as pd\n",
    "import numpy as np\n",
    "import math"
   ]
  },
  {
   "cell_type": "code",
   "execution_count": 2,
   "id": "9b370b8d",
   "metadata": {},
   "outputs": [],
   "source": [
    "temp_Quito = pd.read_csv('TemperaturasRegistradas/temperature_Quito_celsius.csv')\n",
    "temp_Oslo = pd.read_csv('TemperaturasRegistradas/temperature_Oslo_celsius.csv')\n",
    "temp_Melbourne = pd.read_csv('TemperaturasRegistradas/temperature_Melbourne_celsius.csv')"
   ]
  },
  {
   "cell_type": "code",
   "execution_count": 3,
   "id": "266dc7b7",
   "metadata": {},
   "outputs": [],
   "source": [
    "promQuito = temp_Quito.sum()/temp_Quito.count()\n",
    "promOslo = temp_Oslo.sum()/temp_Oslo.count()\n",
    "promMelbourne = temp_Melbourne.sum()/temp_Melbourne.count()"
   ]
  },
  {
   "cell_type": "code",
   "execution_count": 4,
   "id": "9e58105d",
   "metadata": {},
   "outputs": [
    {
     "name": "stdout",
     "output_type": "stream",
     "text": [
      "1.301690430933042\n",
      "9.46169397382391\n",
      "6.4776540492718455\n"
     ]
    }
   ],
   "source": [
    "i=0\n",
    "for v in temp_Quito.values.flatten():\n",
    "    i += (v-promQuito)**2\n",
    "varianzaQuito = i / (temp_Quito.count()-1)\n",
    "DesvQuito = math.sqrt(float(varianzaQuito.iloc[0]))\n",
    "print(DesvQuito)\n",
    "\n",
    "j=0\n",
    "for v in temp_Oslo.values.flatten():\n",
    "    j += (v-promOslo)**2\n",
    "varianzaOslo = j / (temp_Oslo.count()-1)\n",
    "DesvOslo = math.sqrt(float(varianzaOslo.iloc[0]))\n",
    "print(DesvOslo)\n",
    "\n",
    "k=0\n",
    "for v in temp_Melbourne.values.flatten():\n",
    "    k += (v-promMelbourne)**2\n",
    "varianzaMelbourne = k / (temp_Melbourne.count()-1)\n",
    "DesvMelbourne = math.sqrt(float(varianzaMelbourne.iloc[0]))\n",
    "print(DesvMelbourne)\n",
    "\n"
   ]
  },
  {
   "cell_type": "code",
   "execution_count": 5,
   "id": "8fc3ea46",
   "metadata": {},
   "outputs": [
    {
     "name": "stdout",
     "output_type": "stream",
     "text": [
      "      Quito  Oslo  Melbourne\n",
      "0      14.0  -5.0       22.0\n",
      "1      14.0  -6.0       17.0\n",
      "2      15.0 -13.0       20.0\n",
      "3      14.0 -15.0       23.0\n",
      "4      13.0  -4.0       23.0\n",
      "...     ...   ...        ...\n",
      "5839   13.0  -8.0       17.0\n",
      "5840   14.0 -11.0       19.0\n",
      "5841   14.0 -18.0       23.0\n",
      "5842   14.0 -16.0       23.0\n",
      "5843   14.0 -10.0       24.0\n",
      "\n",
      "[5844 rows x 3 columns]\n"
     ]
    }
   ],
   "source": [
    "merged_df = pd.DataFrame({\n",
    "    'Quito': temp_Quito['AvgTemperature'],\n",
    "    'Oslo': temp_Oslo['AvgTemperature'],\n",
    "    'Melbourne': temp_Melbourne['AvgTemperature']\n",
    "})\n",
    "\n",
    "print(merged_df)"
   ]
  },
  {
   "cell_type": "code",
   "execution_count": 6,
   "id": "c09f8601",
   "metadata": {},
   "outputs": [
    {
     "name": "stdout",
     "output_type": "stream",
     "text": [
      "              Quito      Oslo Melbourne\n",
      "Quito           1.0  0.066189 -0.053321\n",
      "Oslo       0.066189       1.0 -0.221326\n",
      "Melbourne -0.053321 -0.221326       1.0\n"
     ]
    }
   ],
   "source": [
    "def metodoPearson(x, y):\n",
    "    mean_x = x.sum()/x.count()\n",
    "    mean_y = y.sum()/y.count()\n",
    "    \n",
    "    numerator = np.sum((x - mean_x) * (y - mean_y))\n",
    "    denominator = np.sqrt(np.sum((x - mean_x)**2) * np.sum((y - mean_y)**2))\n",
    "    return numerator / denominator\n",
    "\n",
    "matrizCorr = pd.DataFrame(index=merged_df.columns, columns=merged_df.columns)\n",
    "for ciudad in merged_df.columns:\n",
    "    for ciudad2 in merged_df.columns:\n",
    "        matrizCorr.loc[ciudad, ciudad2] = metodoPearson(merged_df[ciudad], merged_df[ciudad2])\n",
    "\n",
    "print(matrizCorr)"
   ]
  },
  {
   "cell_type": "code",
   "execution_count": 7,
   "id": "4ebc0a3f",
   "metadata": {},
   "outputs": [
    {
     "name": "stdout",
     "output_type": "stream",
     "text": [
      "     Quito Oslo Melbourne\n",
      "0        T    F         C\n",
      "1        T    F         T\n",
      "2        T    F         C\n",
      "3        T    F         C\n",
      "4        T    F         C\n",
      "...    ...  ...       ...\n",
      "5839     T    F         T\n",
      "5840     T    F         C\n",
      "5841     T    F         C\n",
      "5842     T    F         C\n",
      "5843     T    F         C\n",
      "\n",
      "[5844 rows x 3 columns]\n"
     ]
    }
   ],
   "source": [
    "letters_df = pd.DataFrame(index=merged_df.index, columns=merged_df.columns)\n",
    "\n",
    "for i in merged_df.columns:\n",
    "    for j in merged_df.index:\n",
    "        val = merged_df.loc[j][i]\n",
    "        if val < 11: letters_df.loc[j, i] = 'F'\n",
    "        elif val >= 19: letters_df.loc[j, i] = 'C'\n",
    "        else: letters_df.loc[j, i] = 'T'\n",
    "\n",
    "print(letters_df)"
   ]
  },
  {
   "cell_type": "code",
   "execution_count": 8,
   "id": "c7c9016d",
   "metadata": {},
   "outputs": [
    {
     "name": "stdout",
     "output_type": "stream",
     "text": [
      "Caso Quito:\n",
      "[[5.40540541e-02 9.45945946e-01 0.00000000e+00]\n",
      " [6.03240262e-03 9.93278180e-01 6.89417442e-04]\n",
      " [0.00000000e+00 1.00000000e+00 0.00000000e+00]]\n",
      "\n",
      "Caso Oslo:\n",
      "[[0.95103858 0.04896142 0.        ]\n",
      " [0.02660575 0.96506316 0.00833109]\n",
      " [0.         0.31       0.69      ]]\n",
      "\n",
      "Caso Melbourne:\n",
      "[[0.92836946 0.06998115 0.00164939]\n",
      " [0.02856044 0.92826233 0.04317723]\n",
      " [0.0024255  0.15557866 0.84199584]]\n"
     ]
    }
   ],
   "source": [
    "ValoresTemp = ['F','T','C']\n",
    "matriz_contador = np.zeros((len(ValoresTemp), len(ValoresTemp)))\n",
    "\n",
    "def estado_a_indice(estado):\n",
    "    return ValoresTemp.index(estado)\n",
    "\n",
    "def markovOrdenUno(x):\n",
    "    for i in range(len(letters_df[x]) - 1):\n",
    "        actual = estado_a_indice(letters_df[x][i])\n",
    "        siguiente = estado_a_indice(letters_df[x][i+1])\n",
    "        matriz_contador[actual, siguiente] += 1\n",
    "\n",
    "    matriz_transicion = np.zeros((len(ValoresTemp), len(ValoresTemp)))\n",
    "    for i in range(len(ValoresTemp)):\n",
    "        total = np.sum(matriz_contador[i])\n",
    "        if total > 0:\n",
    "            matriz_transicion[i] = matriz_contador[i] / total\n",
    "\n",
    "    matriz_df = pd.DataFrame(matriz_transicion, index=ValoresTemp, columns=ValoresTemp)\n",
    "    return matriz_transicion\n",
    "\n",
    "\n",
    "#Direccion ascendente, de indice fila a indice columna.\n",
    "print('Caso Quito:')\n",
    "print(markovOrdenUno('Quito'))\n",
    "print()\n",
    "\n",
    "\n",
    "print('Caso Oslo:')\n",
    "print(markovOrdenUno('Oslo'))\n",
    "print()\n",
    "\n",
    "print('Caso Melbourne:')\n",
    "print(markovOrdenUno('Melbourne'))"
   ]
  },
  {
   "cell_type": "code",
   "execution_count": 9,
   "id": "0a8eaebf",
   "metadata": {},
   "outputs": [
    {
     "name": "stdout",
     "output_type": "stream",
     "text": [
      "Caso Quito :\n",
      "F : 0.006331279945242984\n",
      "T : 0.992984257357974\n",
      "C : 0.0006844626967830253\n",
      "\n",
      "Caso Oslo :\n",
      "F : 0.6858316221765913\n",
      "T : 0.2806297056810404\n",
      "C : 0.03353867214236824\n",
      "\n",
      "Caso Melbourne :\n",
      "F : 0.034223134839151265\n",
      "T : 0.5059890485968515\n",
      "C : 0.45978781656399725\n",
      "\n"
     ]
    }
   ],
   "source": [
    "ValoresCiudades = ['Quito', 'Oslo', 'Melbourne']\n",
    "\n",
    "def OrdenCero(temperatura, ciudad):\n",
    "    val = 0\n",
    "    total = 0\n",
    "    for fila in letters_df.index:\n",
    "        total += 1\n",
    "        if letters_df.loc[fila, ciudad] == temperatura:\n",
    "            val += 1\n",
    "    return val / total\n",
    "\n",
    "def DistribucionPorCiudad(ciudad):\n",
    "    distribucion = {}\n",
    "    for simbolo in ValoresTemp:\n",
    "        distribucion[simbolo] = OrdenCero(simbolo, ciudad)\n",
    "    return distribucion\n",
    "\n",
    "# Mostrar resultados\n",
    "for ciudad in ValoresCiudades:\n",
    "    print('Caso', ciudad, ':')\n",
    "    dist = DistribucionPorCiudad(ciudad)\n",
    "    for simbolo in dist:\n",
    "        print(simbolo, ':', dist[simbolo])\n",
    "    print()\n",
    "\n",
    "\n",
    "def distribucionConjunta(ciudad):\n",
    "    dist = DistribucionPorCiudad(ciudad)\n",
    "    acumulado = 0\n",
    "    V0acum = [0] * len(ValoresTemp)\n",
    "    for simbolo in dist:\n",
    "        acumulado = acumulado + dist[simbolo]\n",
    "        V0acum.append(acumulado)\n",
    "    return V0acum\n",
    "\n",
    "def distribucionConjuntaTransicion(ciudad):\n",
    "    matriz_transicion = markovOrdenUno(ciudad)\n",
    "    macum = []\n",
    "    for fila in matriz_transicion:\n",
    "        fila_acum = []\n",
    "        suma = 0\n",
    "        for valor in fila:\n",
    "            suma += valor\n",
    "            fila_acum.append(suma)\n",
    "        macum.append(fila_acum)\n",
    "    return macum\n",
    "            \n"
   ]
  },
  {
   "cell_type": "code",
   "execution_count": 14,
   "id": "ec3c4518",
   "metadata": {},
   "outputs": [
    {
     "name": "stdout",
     "output_type": "stream",
     "text": [
      "[0.11310494834148994, 0.8162044589450789, 0.07069059271343121]\n"
     ]
    }
   ],
   "source": [
    "import random\n",
    "\n",
    "simbolos = [1,2,3]\n",
    "V0acum = distribucionConjunta(\"Quito\")   #calcular en base al 2.1\n",
    "Macum = distribucionConjuntaTransicion(\"Quito\")\n",
    "\n",
    "MINMENSAJES = 100\n",
    "E = 0.0001\n",
    "\n",
    "def primer_simbolo():\n",
    "    r = random.random()\n",
    "    for i in range (len(simbolos)):\n",
    "        if r < V0acum[i]:\n",
    "            return i\n",
    "\n",
    "def siguiente_simbolo(origen: int):\n",
    "    r = random.random()\n",
    "    for i in range (len(simbolos)):\n",
    "        if r < Macum[origen] [i]:\n",
    "            return i\n",
    "\n",
    "def converge(estado_act: list, estado_ant: list):\n",
    "    for i in range(len(estado_act)):\n",
    "        if (abs(estado_act[i] - estado_ant[i]) > E):\n",
    "            return 0\n",
    "    return 1\n",
    "\n",
    "def estadoestacionario():\n",
    "    conteo = [0,0,0]\n",
    "    estado_ant = [-1, -1, -1]\n",
    "    estado_act = [0, 0, 0]\n",
    "    mensajes = 0\n",
    "    #s = primer_simbolo()\n",
    "    s = 1\n",
    "    while not converge(estado_act, estado_ant) or (mensajes < MINMENSAJES):\n",
    "        s = siguiente_simbolo(s)\n",
    "        conteo[s] = conteo[s] + 1\n",
    "        mensajes = mensajes + 1\n",
    "        estado_ant = estado_act.copy()\n",
    "        estado_act = [x / mensajes for x in conteo]\n",
    "    print(estado_act)\n",
    "    return estado_act\n",
    "\n",
    "estadoestacionario()\n",
    "\n",
    "TIEMPOMINIMO = 1\n",
    "\n",
    "def media_primera_recurrencia(simbolo: int):\n",
    "    retornos = 0\n",
    "    media = 0\n",
    "    media_anterior = -1\n",
    "    t_actual = 0\n",
    "    s = simbolo\n",
    "    while not converge(media, media_anterior) or (t_actual < TIEMPOMINIMO):\n",
    "        s = siguiente_simbolo(s)\n",
    "        t_actual = t_actual + 1\n",
    "        if (s == simbolo):\n",
    "            retornos = retornos + 1\n",
    "            media_anterior = media\n",
    "            media = t_actual/retornos\n",
    "    return media"
   ]
  },
  {
   "cell_type": "code",
   "execution_count": 11,
   "id": "5b65b6de",
   "metadata": {},
   "outputs": [
    {
     "name": "stdout",
     "output_type": "stream",
     "text": [
      "Entropia para  Quito :  0.06352072242389746\n",
      "Entropia para  Oslo :  1.0518836866635417\n",
      "Entropia para  Melbourne :  1.179329303672061\n"
     ]
    }
   ],
   "source": [
    "for ciudad in ValoresCiudades:\n",
    "    val = 0\n",
    "    dist = DistribucionPorCiudad(ciudad)\n",
    "    for i in dist:\n",
    "        val += -dist[i] * np.log2(dist[i])\n",
    "    print('Entropia para ', ciudad, ': ', val)"
   ]
  },
  {
   "cell_type": "code",
   "execution_count": 12,
   "id": "b8cad07d",
   "metadata": {},
   "outputs": [
    {
     "ename": "AttributeError",
     "evalue": "'numpy.ndarray' object has no attribute 'index'",
     "output_type": "error",
     "traceback": [
      "\u001b[31m---------------------------------------------------------------------------\u001b[39m",
      "\u001b[31mAttributeError\u001b[39m                            Traceback (most recent call last)",
      "\u001b[36mCell\u001b[39m\u001b[36m \u001b[39m\u001b[32mIn[12]\u001b[39m\u001b[32m, line 4\u001b[39m\n\u001b[32m      2\u001b[39m val = \u001b[32m0\u001b[39m\n\u001b[32m      3\u001b[39m matr = markovOrdenUno(ciudad)\n\u001b[32m----> \u001b[39m\u001b[32m4\u001b[39m \u001b[38;5;28;01mfor\u001b[39;00m i \u001b[38;5;129;01min\u001b[39;00m \u001b[43mmatr\u001b[49m\u001b[43m.\u001b[49m\u001b[43mindex\u001b[49m:\n\u001b[32m      5\u001b[39m     \u001b[38;5;28;01mfor\u001b[39;00m j \u001b[38;5;129;01min\u001b[39;00m matr.columns:\n\u001b[32m      6\u001b[39m         val += -matr[i][j] * np.log2(matr[i][j])\n",
      "\u001b[31mAttributeError\u001b[39m: 'numpy.ndarray' object has no attribute 'index'"
     ]
    }
   ],
   "source": [
    "for ciudad in ValoresCiudades:\n",
    "    val = 0\n",
    "    matr = markovOrdenUno(ciudad)\n",
    "    for i in matr.index:\n",
    "        for j in matr.columns:\n",
    "            val += -matr[i][j] * np.log2(matr[i][j])\n",
    "    print('Entropia para', ciudad, ': ', val)"
   ]
  }
 ],
 "metadata": {
  "kernelspec": {
   "display_name": ".venv",
   "language": "python",
   "name": "python3"
  },
  "language_info": {
   "codemirror_mode": {
    "name": "ipython",
    "version": 3
   },
   "file_extension": ".py",
   "mimetype": "text/x-python",
   "name": "python",
   "nbconvert_exporter": "python",
   "pygments_lexer": "ipython3",
   "version": "3.12.3"
  }
 },
 "nbformat": 4,
 "nbformat_minor": 5
}
