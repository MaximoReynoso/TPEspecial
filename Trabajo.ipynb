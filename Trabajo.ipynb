{
 "cells": [
  {
   "cell_type": "code",
   "execution_count": 23,
   "id": "cf779cb5",
   "metadata": {},
   "outputs": [],
   "source": [
    "import pandas as pd\n",
    "import math"
   ]
  },
  {
   "cell_type": "code",
   "execution_count": 2,
   "id": "9b370b8d",
   "metadata": {},
   "outputs": [],
   "source": [
    "temp_Quito = pd.read_csv('TemperaturasRegistradas/temperature_Quito_celsius.csv')\n",
    "temp_Oslo = pd.read_csv('TemperaturasRegistradas/temperature_Oslo_celsius.csv')\n",
    "temp_Melbourne = pd.read_csv('TemperaturasRegistradas/temperature_Melbourne_celsius.csv')"
   ]
  },
  {
   "cell_type": "code",
   "execution_count": 3,
   "id": "266dc7b7",
   "metadata": {},
   "outputs": [],
   "source": [
    "promQuito = temp_Quito.sum()/temp_Quito.count()\n",
    "promOslo = temp_Oslo.sum()/temp_Oslo.count()\n",
    "promMelbourne = temp_Melbourne.sum()/temp_Melbourne.count()"
   ]
  },
  {
   "cell_type": "code",
   "execution_count": null,
   "id": "9e58105d",
   "metadata": {},
   "outputs": [
    {
     "name": "stdout",
     "output_type": "stream",
     "text": [
      "AvgTemperature    1.30169\n",
      "dtype: float64\n",
      "1.301690430933042\n",
      "9.46169397382391\n",
      "6.4776540492718455\n"
     ]
    }
   ],
   "source": [
    "i=0\n",
    "for v in temp_Quito.values.flatten():\n",
    "    i += (v-promQuito)**2\n",
    "varianzaQuito = i / (temp_Quito.count()-1)\n",
    "DesvQuito = math.sqrt(float(varianzaQuito.iloc[0]))\n",
    "print(DesvQuito)\n",
    "\n",
    "j=0\n",
    "for v in temp_Oslo.values.flatten():\n",
    "    j += (v-promOslo)**2\n",
    "varianzaOslo = j / (temp_Oslo.count()-1)\n",
    "DesvOslo = math.sqrt(float(varianzaOslo.iloc[0]))\n",
    "print(DesvOslo)\n",
    "\n",
    "k=0\n",
    "for v in temp_Melbourne.values.flatten():\n",
    "    k += (v-promMelbourne)**2\n",
    "varianzaMelbourne = k / (temp_Melbourne.count()-1)\n",
    "DesvMelbourne = math.sqrt(float(varianzaMelbourne.iloc[0]))\n",
    "print(DesvMelbourne)\n",
    "\n"
   ]
  }
 ],
 "metadata": {
  "kernelspec": {
   "display_name": "env",
   "language": "python",
   "name": "python3"
  },
  "language_info": {
   "codemirror_mode": {
    "name": "ipython",
    "version": 3
   },
   "file_extension": ".py",
   "mimetype": "text/x-python",
   "name": "python",
   "nbconvert_exporter": "python",
   "pygments_lexer": "ipython3",
   "version": "3.13.3"
  }
 },
 "nbformat": 4,
 "nbformat_minor": 5
}
