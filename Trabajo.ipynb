{
 "cells": [
  {
   "cell_type": "code",
   "execution_count": 60,
   "id": "cf779cb5",
   "metadata": {},
   "outputs": [],
   "source": [
    "import pandas as pd\n",
    "import numpy as np\n",
    "import math"
   ]
  },
  {
   "cell_type": "code",
   "execution_count": 61,
   "id": "9b370b8d",
   "metadata": {},
   "outputs": [],
   "source": [
    "temp_Quito = pd.read_csv('TemperaturasRegistradas/temperature_Quito_celsius.csv')\n",
    "temp_Oslo = pd.read_csv('TemperaturasRegistradas/temperature_Oslo_celsius.csv')\n",
    "temp_Melbourne = pd.read_csv('TemperaturasRegistradas/temperature_Melbourne_celsius.csv')"
   ]
  },
  {
   "cell_type": "code",
   "execution_count": 62,
   "id": "266dc7b7",
   "metadata": {},
   "outputs": [],
   "source": [
    "promQuito = temp_Quito.sum()/temp_Quito.count()\n",
    "promOslo = temp_Oslo.sum()/temp_Oslo.count()\n",
    "promMelbourne = temp_Melbourne.sum()/temp_Melbourne.count()"
   ]
  },
  {
   "cell_type": "code",
   "execution_count": 63,
   "id": "9e58105d",
   "metadata": {},
   "outputs": [
    {
     "name": "stdout",
     "output_type": "stream",
     "text": [
      "1.301690430933042\n",
      "9.46169397382391\n",
      "6.4776540492718455\n"
     ]
    }
   ],
   "source": [
    "i=0\n",
    "for v in temp_Quito.values.flatten():\n",
    "    i += (v-promQuito)**2\n",
    "varianzaQuito = i / (temp_Quito.count()-1)\n",
    "DesvQuito = math.sqrt(float(varianzaQuito.iloc[0]))\n",
    "print(DesvQuito)\n",
    "\n",
    "j=0\n",
    "for v in temp_Oslo.values.flatten():\n",
    "    j += (v-promOslo)**2\n",
    "varianzaOslo = j / (temp_Oslo.count()-1)\n",
    "DesvOslo = math.sqrt(float(varianzaOslo.iloc[0]))\n",
    "print(DesvOslo)\n",
    "\n",
    "k=0\n",
    "for v in temp_Melbourne.values.flatten():\n",
    "    k += (v-promMelbourne)**2\n",
    "varianzaMelbourne = k / (temp_Melbourne.count()-1)\n",
    "DesvMelbourne = math.sqrt(float(varianzaMelbourne.iloc[0]))\n",
    "print(DesvMelbourne)\n",
    "\n"
   ]
  },
  {
   "cell_type": "code",
   "execution_count": 64,
   "id": "8fc3ea46",
   "metadata": {},
   "outputs": [
    {
     "name": "stdout",
     "output_type": "stream",
     "text": [
      "      Quito  Oslo  Melbourne\n",
      "0      14.0  -5.0       22.0\n",
      "1      14.0  -6.0       17.0\n",
      "2      15.0 -13.0       20.0\n",
      "3      14.0 -15.0       23.0\n",
      "4      13.0  -4.0       23.0\n",
      "...     ...   ...        ...\n",
      "5839   13.0  -8.0       17.0\n",
      "5840   14.0 -11.0       19.0\n",
      "5841   14.0 -18.0       23.0\n",
      "5842   14.0 -16.0       23.0\n",
      "5843   14.0 -10.0       24.0\n",
      "\n",
      "[5844 rows x 3 columns]\n"
     ]
    }
   ],
   "source": [
    "merged_df = pd.DataFrame({\n",
    "    'Quito': temp_Quito['AvgTemperature'],\n",
    "    'Oslo': temp_Oslo['AvgTemperature'],\n",
    "    'Melbourne': temp_Melbourne['AvgTemperature']\n",
    "})\n",
    "\n",
    "print(merged_df)"
   ]
  },
  {
   "cell_type": "code",
   "execution_count": 65,
   "id": "c09f8601",
   "metadata": {},
   "outputs": [
    {
     "name": "stdout",
     "output_type": "stream",
     "text": [
      "              Quito      Oslo Melbourne\n",
      "Quito           1.0  0.066189 -0.053321\n",
      "Oslo       0.066189       1.0 -0.221326\n",
      "Melbourne -0.053321 -0.221326       1.0\n"
     ]
    }
   ],
   "source": [
    "def metodoPearson(x, y):\n",
    "    mean_x = x.sum()/x.count()\n",
    "    mean_y = y.sum()/y.count()\n",
    "    \n",
    "    numerator = np.sum((x - mean_x) * (y - mean_y))\n",
    "    denominator = np.sqrt(np.sum((x - mean_x)**2) * np.sum((y - mean_y)**2))\n",
    "    return numerator / denominator\n",
    "\n",
    "matrizCorr = pd.DataFrame(index=merged_df.columns, columns=merged_df.columns)\n",
    "for ciudad in merged_df.columns:\n",
    "    for ciudad2 in merged_df.columns:\n",
    "        matrizCorr.loc[ciudad, ciudad2] = metodoPearson(merged_df[ciudad], merged_df[ciudad2])\n",
    "\n",
    "print(matrizCorr)"
   ]
  },
  {
   "cell_type": "code",
   "execution_count": 66,
   "id": "4ebc0a3f",
   "metadata": {},
   "outputs": [
    {
     "name": "stdout",
     "output_type": "stream",
     "text": [
      "     Quito Oslo Melbourne\n",
      "0        T    F         C\n",
      "1        T    F         T\n",
      "2        T    F         C\n",
      "3        T    F         C\n",
      "4        T    F         C\n",
      "...    ...  ...       ...\n",
      "5839     T    F         T\n",
      "5840     T    F         C\n",
      "5841     T    F         C\n",
      "5842     T    F         C\n",
      "5843     T    F         C\n",
      "\n",
      "[5844 rows x 3 columns]\n"
     ]
    }
   ],
   "source": [
    "letters_df = pd.DataFrame(index=merged_df.index, columns=merged_df.columns)\n",
    "\n",
    "for i in merged_df.columns:\n",
    "    for j in merged_df.index:\n",
    "        val = merged_df.loc[j][i]\n",
    "        if val < 11: letters_df.loc[j, i] = 'F'\n",
    "        elif val >= 19: letters_df.loc[j, i] = 'C'\n",
    "        else: letters_df.loc[j, i] = 'T'\n",
    "\n",
    "print(letters_df)"
   ]
  },
  {
   "cell_type": "code",
   "execution_count": 67,
   "id": "6bceca72",
   "metadata": {},
   "outputs": [
    {
     "name": "stdout",
     "output_type": "stream",
     "text": [
      "      Quito      Oslo Melbourne\n",
      "F  0.006331  0.685832  0.034223\n",
      "T  0.992984   0.28063  0.505989\n",
      "C  0.000684  0.033539  0.459788\n"
     ]
    }
   ],
   "source": [
    "ValoresTemp = ['F','T','C']\n",
    "ValoresCiudad = ['Quito','Oslo','Melbourne']\n",
    "markovOrdenUno = pd.DataFrame(index=ValoresTemp, columns=ValoresCiudad)\n",
    "\n",
    "for i in letters_df.columns:\n",
    "    val_f = 0\n",
    "    val_t = 0\n",
    "    val_c = 0\n",
    "\n",
    "    for j in letters_df.index:\n",
    "        if letters_df[i][j] == 'F': val_f+=1\n",
    "        elif letters_df[i][j] == 'T': val_t+=1\n",
    "        else: val_c+=1\n",
    "\n",
    "    prob_if = val_f/(val_f+val_t+val_c)\n",
    "    prob_it = val_t/(val_f+val_t+val_c)\n",
    "    prob_ic = val_c/(val_f+val_t+val_c)\n",
    "\n",
    "    markovOrdenUno.loc['F', i] = prob_if\n",
    "    markovOrdenUno.loc['T', i] = prob_it\n",
    "    markovOrdenUno.loc['C', i] = prob_ic\n",
    "\n",
    "print(markovOrdenUno)"
   ]
  }
 ],
 "metadata": {
  "kernelspec": {
   "display_name": "env",
   "language": "python",
   "name": "python3"
  },
  "language_info": {
   "codemirror_mode": {
    "name": "ipython",
    "version": 3
   },
   "file_extension": ".py",
   "mimetype": "text/x-python",
   "name": "python",
   "nbconvert_exporter": "python",
   "pygments_lexer": "ipython3",
   "version": "3.13.3"
  }
 },
 "nbformat": 4,
 "nbformat_minor": 5
}
